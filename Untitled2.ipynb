{
  "nbformat": 4,
  "nbformat_minor": 0,
  "metadata": {
    "colab": {
      "name": "Untitled2.ipynb",
      "provenance": [],
      "authorship_tag": "ABX9TyONkDTwEWyrt7wfEHiin4pZ",
      "include_colab_link": true
    },
    "kernelspec": {
      "name": "python3",
      "display_name": "Python 3"
    },
    "language_info": {
      "name": "python"
    }
  },
  "cells": [
    {
      "cell_type": "markdown",
      "metadata": {
        "id": "view-in-github",
        "colab_type": "text"
      },
      "source": [
        "<a href=\"https://colab.research.google.com/github/GladiusRegis/data_science/blob/main/Untitled2.ipynb\" target=\"_parent\"><img src=\"https://colab.research.google.com/assets/colab-badge.svg\" alt=\"Open In Colab\"/></a>"
      ]
    },
    {
      "cell_type": "markdown",
      "source": [
        "##Pseudo-random numbers"
      ],
      "metadata": {
        "id": "jzEejEJB_3gp"
      }
    },
    {
      "cell_type": "code",
      "execution_count": 1,
      "metadata": {
        "id": "XN-xN8cl_WYz"
      },
      "outputs": [],
      "source": [
        "import numpy as np"
      ]
    },
    {
      "cell_type": "code",
      "source": [
        "np.random.seed(0)"
      ],
      "metadata": {
        "id": "AaSZvWoGANBi"
      },
      "execution_count": 2,
      "outputs": []
    },
    {
      "cell_type": "markdown",
      "source": [
        "###Standard normal distribution"
      ],
      "metadata": {
        "id": "VnBnSkZWEGM4"
      }
    },
    {
      "cell_type": "code",
      "source": [
        "np.random.randn(10, 4)"
      ],
      "metadata": {
        "id": "FFF5y_YCAf2d"
      },
      "execution_count": null,
      "outputs": []
    },
    {
      "cell_type": "markdown",
      "source": [
        "###Uniform distribution over the interval"
      ],
      "metadata": {
        "id": "dP00hiCPEbMM"
      }
    },
    {
      "cell_type": "code",
      "source": [
        "np.random.rand(10, 2)"
      ],
      "metadata": {
        "colab": {
          "base_uri": "https://localhost:8080/"
        },
        "id": "oguQ03A4EEyG",
        "outputId": "51c0be9a-861f-41c3-a47f-6c9cab58429a"
      },
      "execution_count": 8,
      "outputs": [
        {
          "output_type": "execute_result",
          "data": {
            "text/plain": [
              "array([[0.69253159, 0.72525428],\n",
              "       [0.50132438, 0.95608363],\n",
              "       [0.6439902 , 0.42385505],\n",
              "       [0.60639321, 0.0191932 ],\n",
              "       [0.30157482, 0.66017354],\n",
              "       [0.29007761, 0.61801543],\n",
              "       [0.4287687 , 0.13547406],\n",
              "       [0.29828233, 0.56996491],\n",
              "       [0.59087276, 0.57432525],\n",
              "       [0.65320082, 0.65210327]])"
            ]
          },
          "metadata": {},
          "execution_count": 8
        }
      ]
    },
    {
      "cell_type": "markdown",
      "source": [
        "Random integer"
      ],
      "metadata": {
        "id": "lh20ZIwiG8LG"
      }
    },
    {
      "cell_type": "code",
      "source": [
        "np.random.randint(10)"
      ],
      "metadata": {
        "colab": {
          "base_uri": "https://localhost:8080/"
        },
        "id": "RlwVPlnpFSkI",
        "outputId": "da91fb46-26e0-4e38-a5f0-f7fbd654d679"
      },
      "execution_count": 21,
      "outputs": [
        {
          "output_type": "execute_result",
          "data": {
            "text/plain": [
              "6"
            ]
          },
          "metadata": {},
          "execution_count": 21
        }
      ]
    },
    {
      "cell_type": "code",
      "source": [
        "np.random.randint(low=10, high=101)"
      ],
      "metadata": {
        "colab": {
          "base_uri": "https://localhost:8080/"
        },
        "id": "F9Jz4KhTFSiv",
        "outputId": "33446786-57d0-4f1d-daa6-5e81452a0779"
      },
      "execution_count": 23,
      "outputs": [
        {
          "output_type": "execute_result",
          "data": {
            "text/plain": [
              "38"
            ]
          },
          "metadata": {},
          "execution_count": 23
        }
      ]
    },
    {
      "cell_type": "code",
      "source": [
        "np.random.randint(low=10, high=101, size=10)"
      ],
      "metadata": {
        "colab": {
          "base_uri": "https://localhost:8080/"
        },
        "id": "vqxbAukTEExJ",
        "outputId": "ad777874-9542-43b5-f5fc-25a0dff32edf"
      },
      "execution_count": 29,
      "outputs": [
        {
          "output_type": "execute_result",
          "data": {
            "text/plain": [
              "array([65, 74, 85, 46, 35, 42, 52, 24, 96, 38])"
            ]
          },
          "metadata": {},
          "execution_count": 29
        }
      ]
    },
    {
      "cell_type": "code",
      "source": [
        "np.random.randint(low=10, high=101, size=(8, 4))"
      ],
      "metadata": {
        "colab": {
          "base_uri": "https://localhost:8080/"
        },
        "id": "KJgiR4YGJDLn",
        "outputId": "86f18a70-9d81-455c-e947-1a39c191cd5f"
      },
      "execution_count": 31,
      "outputs": [
        {
          "output_type": "execute_result",
          "data": {
            "text/plain": [
              "array([[90, 36, 45, 68],\n",
              "       [59, 83, 54, 23],\n",
              "       [80, 48, 49, 18],\n",
              "       [23, 17, 90, 32],\n",
              "       [89, 99, 18, 16],\n",
              "       [91, 81, 94, 99],\n",
              "       [76, 70, 26, 66],\n",
              "       [33, 34, 14, 59]])"
            ]
          },
          "metadata": {},
          "execution_count": 31
        }
      ]
    },
    {
      "cell_type": "markdown",
      "source": [
        "## A random element of the set"
      ],
      "metadata": {
        "id": "i25TGY1rLAJ9"
      }
    },
    {
      "cell_type": "code",
      "source": [
        "np.random.choice([4, 3, 6, 8, -1])"
      ],
      "metadata": {
        "colab": {
          "base_uri": "https://localhost:8080/"
        },
        "id": "y47F3aCTJggw",
        "outputId": "180e8d99-2577-4c07-d642-b7e4ed111902"
      },
      "execution_count": 48,
      "outputs": [
        {
          "output_type": "execute_result",
          "data": {
            "text/plain": [
              "-1"
            ]
          },
          "metadata": {},
          "execution_count": 48
        }
      ]
    },
    {
      "cell_type": "code",
      "source": [
        "np.random.choice(['python', 'java', 'c++'])"
      ],
      "metadata": {
        "colab": {
          "base_uri": "https://localhost:8080/",
          "height": 35
        },
        "id": "5-nq2EX7KLfa",
        "outputId": "de092ce9-75fe-4bfb-dc86-157eb85d3f8b"
      },
      "execution_count": 50,
      "outputs": [
        {
          "output_type": "execute_result",
          "data": {
            "text/plain": [
              "'python'"
            ],
            "application/vnd.google.colaboratory.intrinsic+json": {
              "type": "string"
            }
          },
          "metadata": {},
          "execution_count": 50
        }
      ]
    },
    {
      "cell_type": "markdown",
      "source": [
        "## Shuffling the set"
      ],
      "metadata": {
        "id": "7rdtJMRtLUjJ"
      }
    },
    {
      "cell_type": "code",
      "source": [
        "data = np.arange(10)\n",
        "data"
      ],
      "metadata": {
        "colab": {
          "base_uri": "https://localhost:8080/"
        },
        "id": "tR1NNgg6KmXJ",
        "outputId": "be1fcf84-d312-41a1-85a9-9e83687b1f96"
      },
      "execution_count": 63,
      "outputs": [
        {
          "output_type": "execute_result",
          "data": {
            "text/plain": [
              "array([0, 1, 2, 3, 4, 5, 6, 7, 8, 9])"
            ]
          },
          "metadata": {},
          "execution_count": 63
        }
      ]
    },
    {
      "cell_type": "code",
      "source": [
        "np.random.shuffle(data)\n",
        "data"
      ],
      "metadata": {
        "colab": {
          "base_uri": "https://localhost:8080/"
        },
        "id": "NpTKX7RBKxVw",
        "outputId": "995ac3e3-d8b9-4859-dba8-f1b30aac666a"
      },
      "execution_count": 65,
      "outputs": [
        {
          "output_type": "execute_result",
          "data": {
            "text/plain": [
              "array([3, 7, 2, 9, 6, 5, 1, 8, 0, 4])"
            ]
          },
          "metadata": {},
          "execution_count": 65
        }
      ]
    }
  ]
}